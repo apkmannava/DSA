{
  "nbformat": 4,
  "nbformat_minor": 0,
  "metadata": {
    "colab": {
      "provenance": [],
      "toc_visible": true,
      "authorship_tag": "ABX9TyOOif1vZN3upc0PAtQvL/pz",
      "include_colab_link": true
    },
    "kernelspec": {
      "name": "python3",
      "display_name": "Python 3"
    },
    "language_info": {
      "name": "python"
    }
  },
  "cells": [
    {
      "cell_type": "markdown",
      "metadata": {
        "id": "view-in-github",
        "colab_type": "text"
      },
      "source": [
        "<a href=\"https://colab.research.google.com/github/apkmannava/DSA/blob/main/Array_operations.ipynb\" target=\"_parent\"><img src=\"https://colab.research.google.com/assets/colab-badge.svg\" alt=\"Open In Colab\"/></a>"
      ]
    },
    {
      "cell_type": "code",
      "source": [
        "import random"
      ],
      "metadata": {
        "id": "WrQt2P5fwAyF"
      },
      "execution_count": null,
      "outputs": []
    },
    {
      "cell_type": "code",
      "source": [
        "arr = [random.randint(1,10) for val  in range(25)]\n",
        "arr"
      ],
      "metadata": {
        "id": "4Axk1nvFv--u"
      },
      "execution_count": null,
      "outputs": []
    },
    {
      "cell_type": "markdown",
      "source": [
        "## sort a array assending order -- quick sort"
      ],
      "metadata": {
        "id": "3LN6eMBBwbs_"
      }
    },
    {
      "cell_type": "code",
      "execution_count": null,
      "metadata": {
        "id": "SQ-K0IiYOKek"
      },
      "outputs": [],
      "source": [
        "def quick_sort(arr):\n",
        "\n",
        "    if len(arr)<=1:\n",
        "        return arr\n",
        "    else:\n",
        "        pivot = arr[len(arr)//2]\n",
        "        arr_left = []\n",
        "        arr_rit  = []\n",
        "        arr_mid  = []\n",
        "        for val in arr:\n",
        "            if val <pivot:\n",
        "                arr_left.append(val)\n",
        "            elif val > pivot:\n",
        "                arr_rit.append(val)\n",
        "            else:\n",
        "                arr_mid.append(val)\n",
        "    return quick_sort(arr_left)+arr_mid+quick_sort(arr_rit)"
      ]
    },
    {
      "cell_type": "markdown",
      "source": [
        "## search a target value in an array ( binary search)"
      ],
      "metadata": {
        "id": "dGOavBXUwVLS"
      }
    },
    {
      "cell_type": "code",
      "source": [
        "def bin_search(arr,elem):\n",
        "\n",
        "    low = 0\n",
        "    hig = len(arr)-1\n",
        "    mid = (low+hig)//2\n",
        "\n",
        "    while(low<hig):\n",
        "        if arr[low] == elem:\n",
        "            return  low\n",
        "        elif arr[hig] == elem:\n",
        "            return hig\n",
        "        elif arr[mid] == elem:\n",
        "            return mid\n",
        "        elif arr[mid] < elem:\n",
        "            low = mid+1\n",
        "            mid = (low+hig)//2\n",
        "        elif arr[mid] > elem:\n",
        "            hig = mid-1\n",
        "            mid = (low+hig)//2\n",
        "    return -1"
      ],
      "metadata": {
        "id": "6TJJRFJAOQey"
      },
      "execution_count": null,
      "outputs": []
    },
    {
      "cell_type": "markdown",
      "source": [
        "## find an element in a shifted array ( clock wise shift)"
      ],
      "metadata": {
        "id": "RYbEK3D3wNa8"
      }
    },
    {
      "cell_type": "code",
      "source": [
        "def bin_shift_serch(arr,elem):\n",
        "    low = 0\n",
        "    hig = len(arr)-1\n",
        "\n",
        "    if len(arr)==1:\n",
        "        if arr[0] == elem:\n",
        "            return 0\n",
        "        else:\n",
        "            return -1\n",
        "\n",
        "    while(low<hig):\n",
        "        mid = (low+hig)//2\n",
        "\n",
        "        if len(arr[low:hig+1])<=3:\n",
        "            if arr[low] == elem:\n",
        "                return low\n",
        "            elif arr[mid] == elem:\n",
        "                return mid\n",
        "            elif arr[hig] == elem:\n",
        "                return hig\n",
        "            else:\n",
        "                return -1\n",
        "        elif arr[mid] == elem:\n",
        "            return mid\n",
        "\n",
        "        elif arr[low]<=arr[mid]:\n",
        "\n",
        "            if arr[low]<= elem and elem <= arr[mid]:\n",
        "                hig = mid\n",
        "                bin_search(arr[low:hig+1],elem)\n",
        "\n",
        "            else:\n",
        "                low = mid\n",
        "\n",
        "        else:\n",
        "            if arr[mid]<= elem and elem <= arr[hig]:\n",
        "                low = mid\n",
        "                bin_search(arr[low:hig+1],elem)\n",
        "\n",
        "            else:\n",
        "                hig = mid\n",
        "\n",
        "\n",
        "    return -1"
      ],
      "metadata": {
        "id": "pyh9OkPZOU-h"
      },
      "execution_count": null,
      "outputs": []
    },
    {
      "cell_type": "markdown",
      "source": [
        "## find first and last position of a element in an array"
      ],
      "metadata": {
        "id": "qpdYd2YswH8J"
      }
    },
    {
      "cell_type": "code",
      "source": [
        "def bin_serch_left(arr,elem):\n",
        "    low = 0\n",
        "    hig = len(arr)-1\n",
        "\n",
        "    while(low<hig):\n",
        "        print(arr[low:hig+1])\n",
        "        mid = (low+hig)//2\n",
        "        if len(arr[low:hig+1])<=3:\n",
        "            if arr[low] ==elem:\n",
        "                return low\n",
        "            elif arr[mid] == elem:\n",
        "                return mid\n",
        "            elif arr[hig] == elem:\n",
        "                return hig\n",
        "            else: return -1\n",
        "        if arr[low]<= elem and elem <= arr[mid]:\n",
        "            hig = mid+1\n",
        "        else:\n",
        "            low = mid\n",
        "\n",
        "    return -1\n",
        "\n",
        "def bin_serch_right(arr,elem):\n",
        "    low = 0\n",
        "    hig = len(arr)-1\n",
        "\n",
        "    while(low<hig):\n",
        "        print(arr[low:hig+1])\n",
        "        mid = (low+hig)//2\n",
        "        if len(arr[low:hig+1])<=3:\n",
        "            if arr[hig] ==elem:\n",
        "                return hig\n",
        "            elif arr[mid] == elem:\n",
        "                return mid\n",
        "            elif arr[low] == elem:\n",
        "                return low\n",
        "            else: return -1\n",
        "        if arr[mid]<= elem and elem <= arr[hig]:\n",
        "            low = mid\n",
        "        else:\n",
        "            hig = mid\n",
        "\n",
        "    return -1\n",
        "\n",
        "def search(arr,elem):\n",
        "    left = bin_serch_left(arr,elem)\n",
        "    if left!=-1:\n",
        "        return left, left+bin_serch_right(arr[left:],elem)\n",
        "    else:\n",
        "        return -1,-1"
      ],
      "metadata": {
        "id": "9nl8RExZv3PL"
      },
      "execution_count": null,
      "outputs": []
    },
    {
      "cell_type": "code",
      "source": [
        "def search_from_right(arr, elem):\n",
        "    low = 0\n",
        "    hig = len(arr)-1\n",
        "    while(low<=hig):\n",
        "        mid = (low+hig)//2\n",
        "\n",
        "        if len(arr[low:hig+1])<=2:\n",
        "            if elem >= arr[hig]:\n",
        "                return hig+1\n",
        "            elif elem < arr[hig] and elem>=arr[low]:\n",
        "                return low+1\n",
        "            elif elem <arr[low]:\n",
        "                return 0\n",
        "        elif arr[hig]<=elem:\n",
        "            return hig+1\n",
        "        elif arr[low] == elem:\n",
        "            return low+1\n",
        "        elif elem < arr[low]:\n",
        "            return 0\n",
        "        elif arr[mid]<= elem and elem <=arr[hig]:\n",
        "            low = mid\n",
        "        elif arr[low]<  elem and elem < arr[mid]:\n",
        "            hig = mid\n",
        "\n",
        "\n",
        "    return 0"
      ],
      "metadata": {
        "id": "ut_IeIIp4hOJ"
      },
      "execution_count": null,
      "outputs": []
    },
    {
      "cell_type": "markdown",
      "source": [
        "## XORQuerry"
      ],
      "metadata": {
        "id": "q8CIWuKlCeN9"
      }
    },
    {
      "cell_type": "code",
      "source": [
        "def xorQuery(queries):\n",
        "    arr = []\n",
        "    xor_var = 0\n",
        "    for quer in queries:\n",
        "        if quer[0] == 1:\n",
        "            arr.append(quer[1]^xor_var)        # x^x=0\n",
        "        elif quer[0] == 2:\n",
        "            xor_var = xor_var^quer[1]\n",
        "\n",
        "    print(arr)\n",
        "    arr = [val^xor_var for val in arr]\n",
        "    return arr\n",
        "\n",
        "input_list = [[2,5],[1,3]]\n",
        "arr = xorQuery(input_list)\n",
        "\n",
        "print(arr)"
      ],
      "metadata": {
        "id": "j4QkmlBvCZWw"
      },
      "execution_count": null,
      "outputs": []
    },
    {
      "cell_type": "markdown",
      "source": [
        "## Product Of Array Except Self"
      ],
      "metadata": {
        "id": "7XSNlDQ59oju"
      }
    },
    {
      "cell_type": "code",
      "source": [
        "def getProductArrayExceptSelf(arr, n) :\n",
        "    res = [1] *len(arr)\n",
        "    prefix = 1\n",
        "    for i in range(len(arr)):\n",
        "        res[i] = prefix\n",
        "        prefix = prefix * arr[i]\n",
        "\n",
        "    postfix = 1\n",
        "    for i in range(len(arr)-1,-1,-1):\n",
        "        res[i] = res[i] * postfix\n",
        "        postfix = postfix*arr[i]\n",
        "    return res\n"
      ],
      "metadata": {
        "id": "EYK1RNt39nFL"
      },
      "execution_count": null,
      "outputs": []
    },
    {
      "cell_type": "markdown",
      "source": [
        "## Count all sub-arrays having sum divisible by k"
      ],
      "metadata": {
        "id": "BrGKlZxSsnyF"
      }
    },
    {
      "cell_type": "code",
      "source": [
        "rem_dict = {}\n",
        "sum = 0\n",
        "for i in range(len(arr)):\n",
        "    sum += arr[i]\n",
        "    rem = sum%k\n",
        "    if rem < 0:\n",
        "        rem = rem+k\n",
        "    # print(sum,end=' ')\n",
        "    if rem not in rem_dict:\n",
        "        rem_dict[rem] = 1\n",
        "    else:\n",
        "        rem_dict[rem] += 1\n",
        "\n",
        "count=0\n",
        "for key in rem_dict:\n",
        "    count+= rem_dict[key]*(rem_dict[key]-1)//2\n",
        "    if key == 0:\n",
        "        count+= rem_dict[key]\n",
        "\n",
        "print(count)"
      ],
      "metadata": {
        "id": "ztg_YzbPsnDP"
      },
      "execution_count": null,
      "outputs": []
    },
    {
      "cell_type": "markdown",
      "source": [
        "## PairSum  equal to a target value"
      ],
      "metadata": {
        "id": "7-mLqgvYsyN0"
      }
    },
    {
      "cell_type": "code",
      "source": [
        "def PairSum1(arr,target):\n",
        "    arr = quick_sort(arr)\n",
        "    lft = 0\n",
        "    rit = len(arr)-1\n",
        "    ans = []\n",
        "    for i in range(len(arr)-1):\n",
        "        for j in range(rit,i,-1):\n",
        "            if arr[i]+arr[j] == target:\n",
        "                ans.append([arr[i],arr[j]])\n",
        "            elif arr[i]+arr[j]>target:\n",
        "                rit -=1\n",
        "            elif arr[i]+arr[j]< target:\n",
        "                break\n",
        "    return ans\n",
        "\n",
        "    print(PairSum1(arr,target))"
      ],
      "metadata": {
        "id": "nkappPn5srkS"
      },
      "execution_count": null,
      "outputs": []
    },
    {
      "cell_type": "markdown",
      "source": [
        "## valid_pair_sum"
      ],
      "metadata": {
        "id": "aHR-ebHphzyk"
      }
    },
    {
      "cell_type": "code",
      "source": [
        "def valid_pair_sum(arr,k,m):\n",
        "    if len(arr)%2!=0:\n",
        "        return False\n",
        "    ans = 0\n",
        "    ans_list = []\n",
        "    map = {}\n",
        "    for val in arr:\n",
        "        if val%k not in map:\n",
        "            map[val%k] = []\n",
        "            map[val%k].append(val)\n",
        "        else:\n",
        "            map[val%k].append(val)\n",
        "    map_list = quick_sort(list(map.keys()))\n",
        "    map = {key:map[key] for key in map_list}\n",
        "    print(map)\n",
        "    for key in map:\n",
        "        rem = map[key][0]\n",
        "        rem = rem%k\n",
        "        X = (m-rem)\n",
        "        if X < 0:\n",
        "            print('x<0 so x=x+k')\n",
        "            X = X+k\n",
        "        print('key:',key,'X:',X)\n",
        "        if X not in map.keys():\n",
        "            print('X not in keys')\n",
        "            return False\n",
        "        elif len(map[X]) !=  len(map[key]):\n",
        "            print('len(map[X] not= len(map[key]')\n",
        "            return False\n",
        "        else:\n",
        "            continue\n",
        "    return True"
      ],
      "metadata": {
        "id": "FRlyblhNh0I-"
      },
      "execution_count": null,
      "outputs": []
    },
    {
      "cell_type": "markdown",
      "source": [
        "## Max_Product_count"
      ],
      "metadata": {
        "id": "EGtsO_pGPm94"
      }
    },
    {
      "cell_type": "code",
      "source": [
        "def Max_Product_Count(arr):\n",
        "    # sort_arr = quick_sort(arr)\n",
        "    n = len(arr)\n",
        "    map = {}\n",
        "    prod = 0\n",
        "    for i in range(n):\n",
        "        for j in range(i+1,n):\n",
        "            prod = arr[i]*arr[j]\n",
        "            if prod not in map:\n",
        "                map[prod] = []\n",
        "                map[prod].append([arr[i],arr[j]])\n",
        "            else:\n",
        "                map[prod].append([arr[i],arr[j]])\n",
        "\n",
        "    key_list = quick_sort(list(map.keys()))\n",
        "    sort_map = {key:map[key] for key in key_list}\n",
        "\n",
        "    Max = 0\n",
        "    max_key = 0\n",
        "    for key in key_list:\n",
        "        if len(sort_map[key])>Max:\n",
        "            Max = len(sort_map[key])\n",
        "            max_key = key\n",
        "\n",
        "    return [max_key,Max*(Max-1)//2],sort_map"
      ],
      "metadata": {
        "id": "xznH5xstPjul"
      },
      "execution_count": null,
      "outputs": []
    },
    {
      "cell_type": "markdown",
      "source": [
        "## is_non_decreasing_array"
      ],
      "metadata": {
        "id": "brV2lHJciPxS"
      }
    },
    {
      "cell_type": "code",
      "source": [
        "def isPossible(arr):\n",
        "    n = len(arr)\n",
        "    count1 = 0\n",
        "    count2 = 0\n",
        "    slope_1 = [0.]\n",
        "    slope_2 = [0.]\n",
        "    for i in range(1,n):\n",
        "        slope_1.append(arr[i]-arr[i-1] +0.00001)\n",
        "        slope_2.append(arr[i+1]-arr[i-1] + 0.00001)\n",
        "        if slope_1[i]<0:\n",
        "            count1+=1\n",
        "            if count1 >1:\n",
        "                return False\n",
        "            if slope_2[i]<0:\n",
        "                return False\n",
        "\n",
        "    return True"
      ],
      "metadata": {
        "id": "wz2HdvEviPAV"
      },
      "execution_count": null,
      "outputs": []
    },
    {
      "cell_type": "markdown",
      "source": [
        "## lengthOfLongestConsecutiveSequence"
      ],
      "metadata": {
        "id": "ynwvixAzHY9n"
      }
    },
    {
      "cell_type": "code",
      "source": [
        "def lengthOfLongestConsecutiveSequence(arr):\n",
        "    n = len(arr)\n",
        "    elem_set = set()\n",
        "    count,max_count = 0,0\n",
        "    for i in range(n):\n",
        "        if arr[i] not in elem_set:\n",
        "            elem_set.add(arr[i])\n",
        "\n",
        "    for val in elem_set:\n",
        "        if val-1 not in elem_set:\n",
        "            count=0\n",
        "            x = val\n",
        "            while x+1 in elem_set:\n",
        "                x+=1\n",
        "                count +=1\n",
        "                max_count = max(count,max_count)\n",
        "    return max_count+1"
      ],
      "metadata": {
        "id": "l4oE3DUCHYoS"
      },
      "execution_count": null,
      "outputs": []
    },
    {
      "cell_type": "markdown",
      "source": [
        "## second_largest"
      ],
      "metadata": {
        "id": "iplfskB_HqTw"
      }
    },
    {
      "cell_type": "code",
      "source": [
        "def second_largest(arr):\n",
        "    first_max  = 0\n",
        "    second_max = 0\n",
        "    for val in arr:\n",
        "        if first_max <val:\n",
        "            second_max = first_max\n",
        "            first_max  = val\n",
        "        elif second_max < val and val < first_max:\n",
        "            second_max = val\n",
        "\n",
        "    return first_max,second_max"
      ],
      "metadata": {
        "id": "KE22YnlKHqqa"
      },
      "execution_count": null,
      "outputs": []
    },
    {
      "cell_type": "markdown",
      "source": [
        "## printArrayAfterKOperations"
      ],
      "metadata": {
        "id": "PnrUjVw2WO5o"
      }
    },
    {
      "cell_type": "code",
      "source": [
        "def k_oper(arr,K):\n",
        "    N = len(arr)\n",
        "    nex_max = 0\n",
        "    new_arr = [0]*N\n",
        "    if K == 0:\n",
        "        return arr\n",
        "    elif K%2==1:\n",
        "        K=3\n",
        "    elif K%2 == 0:\n",
        "        K=2\n",
        "    for i in range(K+1):\n",
        "        now_max = 0\n",
        "        for j in range(N):\n",
        "            new_val = (arr[j]*(-1)**i)+nex_max\n",
        "            if now_max < new_val:\n",
        "                now_max = new_val\n",
        "            if i == K:\n",
        "                new_arr[j] = new_val\n",
        "        nex_max = now_max - nex_max\n",
        "\n",
        "    return new_arr"
      ],
      "metadata": {
        "id": "hCehtXtgWN-0"
      },
      "execution_count": null,
      "outputs": []
    },
    {
      "cell_type": "markdown",
      "source": [
        "## calculateMinPatforms"
      ],
      "metadata": {
        "id": "yGYRS3Vp7iEA"
      }
    },
    {
      "cell_type": "code",
      "source": [
        "def calculateMinPatforms(at, dt, n):\n",
        "    # Write your code here.\n",
        "    at = quick_sort(at)\n",
        "    dt = quick_sort(dt)\n",
        "    count = 0\n",
        "    max_count = 0\n",
        "    i,j=0,0\n",
        "    while(i<n and j<n):\n",
        "        if at[i] <= dt[j]:\n",
        "            count+=1\n",
        "            max_count = max(max_count,count)\n",
        "            i+=1\n",
        "\n",
        "        elif at[i]>dt[j]:\n",
        "            count-=1\n",
        "            j+=1\n",
        "\n",
        "    return max_count"
      ],
      "metadata": {
        "id": "2AXKT23v7ibe"
      },
      "execution_count": null,
      "outputs": []
    },
    {
      "cell_type": "code",
      "source": [],
      "metadata": {
        "id": "NxGeFOAM7qjW"
      },
      "execution_count": null,
      "outputs": []
    }
  ]
}
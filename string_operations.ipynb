{
  "nbformat": 4,
  "nbformat_minor": 0,
  "metadata": {
    "colab": {
      "provenance": [],
      "toc_visible": true,
      "authorship_tag": "ABX9TyOmJ3Rj1tb+WHoAdZVPDECj",
      "include_colab_link": true
    },
    "kernelspec": {
      "name": "python3",
      "display_name": "Python 3"
    },
    "language_info": {
      "name": "python"
    }
  },
  "cells": [
    {
      "cell_type": "markdown",
      "metadata": {
        "id": "view-in-github",
        "colab_type": "text"
      },
      "source": [
        "<a href=\"https://colab.research.google.com/github/apkmannava/DSA/blob/main/string_operations.ipynb\" target=\"_parent\"><img src=\"https://colab.research.google.com/assets/colab-badge.svg\" alt=\"Open In Colab\"/></a>"
      ]
    },
    {
      "cell_type": "markdown",
      "source": [
        "## convertString"
      ],
      "metadata": {
        "id": "tzftlrX42_aE"
      }
    },
    {
      "cell_type": "code",
      "execution_count": null,
      "metadata": {
        "id": "D3Ok3gOcbjeR"
      },
      "outputs": [],
      "source": [
        "def convertString(chr_str):\n",
        "    # Write your code here\n",
        "    ans = ['']*len(chr_str)\n",
        "    i = 0\n",
        "\n",
        "    for i in range(len(chr_str)):\n",
        "        if i == 0 and ord(chr_str[i])>=97 and ord(chr_str[i])<=122:\n",
        "            ans[i] = chr(ord(chr_str[i]) -32)\n",
        "\n",
        "        elif (chr_str[i-1] == ' ' or chr_str[i-1] == '\\n') and ord(chr_str[i])>=97:\n",
        "            ans[i] = chr(ord(chr_str[i]) -32)\n",
        "        else:\n",
        "            ans[i] = chr_str[i]\n",
        "\n",
        "    return ''.join(ans)"
      ]
    },
    {
      "cell_type": "markdown",
      "source": [
        "## encode"
      ],
      "metadata": {
        "id": "UHmOlsC93DmD"
      }
    },
    {
      "cell_type": "code",
      "source": [
        "def encode(aabbc):\n",
        "    holder = ''\n",
        "    counter = 0\n",
        "    encrypt = []\n",
        "    for ltr in message:\n",
        "        if ltr != holder:\n",
        "            holder = ltr\n",
        "            encrypt.append(holder)\n",
        "            encrypt.append('')\n",
        "            counter =0\n",
        "        if ltr == holder:\n",
        "            counter +=1\n",
        "            encrypt[-1] = str(counter)\n",
        "    return ''.join(encrypt)"
      ],
      "metadata": {
        "id": "kNc6gN7boSA0"
      },
      "execution_count": null,
      "outputs": []
    },
    {
      "cell_type": "markdown",
      "source": [
        "## removeVowels"
      ],
      "metadata": {
        "id": "HqmSlvti3FY3"
      }
    },
    {
      "cell_type": "code",
      "source": [
        "def removeVowels(inputString):\n",
        "    ovel_str = 'aeiou'\n",
        "    inputString = list(inputString)\n",
        "    holder = ''\n",
        "    counter = 0\n",
        "    encrypt = []\n",
        "    for i in range(len(inputString)):\n",
        "        if inputString[i] in ovel_str:\n",
        "            inputString[i] =''\n",
        "    return ''.join(inputString)\n"
      ],
      "metadata": {
        "id": "kdEYKHTOHFVh"
      },
      "execution_count": null,
      "outputs": []
    },
    {
      "cell_type": "markdown",
      "source": [
        "## minimumParentheses"
      ],
      "metadata": {
        "id": "rtNuOat53H8b"
      }
    },
    {
      "cell_type": "code",
      "source": [
        "def minimumParentheses(pat):\n",
        "    n=len(pat)\n",
        "    open,close=0,0\n",
        "    for i in range(n):\n",
        "        if pat[i]==\"(\":\n",
        "            open+=1\n",
        "        elif pat[i]==\")\" :\n",
        "            if open !=0:  # if its posibile par with one open bracket and reduce\n",
        "                open-=1\n",
        "            else: # if its not possibile to make par add close value\n",
        "                close +=1\n",
        "\n",
        "    return open+close"
      ],
      "metadata": {
        "id": "dio1KE29xjF6"
      },
      "execution_count": null,
      "outputs": []
    },
    {
      "cell_type": "markdown",
      "source": [
        "## leftRotate rightRotate"
      ],
      "metadata": {
        "id": "SIrLOzGd3LEs"
      }
    },
    {
      "cell_type": "code",
      "source": [
        "def leftRotate(strr,d):\n",
        "    n=len(strr)\n",
        "\n",
        "    rot_portion = strr[:d%n]\n",
        "    stay_portion = strr[d%n:]\n",
        "    return stay_portion+rot_portion\n",
        "\n",
        "def rightRotate(strr,d):\n",
        "    n=len(strr)\n",
        "    '''if d>n in this situation\n",
        "    we need to do only d-n ;\n",
        "    since left out n will ensure full rotation'''\n",
        "    rot_portion = strr[-d%n:]\n",
        "    stay_portion = strr[:-d%n]\n",
        "    return rot_portion+stay_portion\n"
      ],
      "metadata": {
        "id": "zRwq1QhG7wGZ"
      },
      "execution_count": null,
      "outputs": []
    },
    {
      "cell_type": "markdown",
      "source": [
        "## getLengthofLongestSubstring"
      ],
      "metadata": {
        "id": "dgpFTnxD3Tul"
      }
    },
    {
      "cell_type": "code",
      "source": [
        "def getLengthofLongestSubstring(strr,k):\n",
        "    n = len(strr)\n",
        "    ans = str()\n",
        "    for i in range(n):\n",
        "        if len(ans)>(n-i):\n",
        "            return ans\n",
        "        else:\n",
        "            dist_chr = {}\n",
        "            now_str = str()\n",
        "            for j in range(i,n):\n",
        "                if strr[j] not in dist_chr:\n",
        "                    dist_chr[strr[j]]=1\n",
        "                else:\n",
        "                    dist_chr[strr[j]]+=1\n",
        "                if len(dist_chr)<=k:\n",
        "                    now_str+=strr[j]\n",
        "                    if len(now_str)>len(ans):\n",
        "                        ans = now_str\n",
        "                else:\n",
        "                    continue\n",
        "    return ans"
      ],
      "metadata": {
        "id": "uPJCkCMA29OS"
      },
      "execution_count": null,
      "outputs": []
    },
    {
      "cell_type": "markdown",
      "source": [
        "## getMinimumAnagramDifference"
      ],
      "metadata": {
        "id": "PnuLX1dIvQMb"
      }
    },
    {
      "cell_type": "code",
      "source": [
        "def getMinimumAnagramDifference(str1, str2):\n",
        "    count1,count2=0,0\n",
        "    let_dict1,let_dict2 = {},{}\n",
        "    for val in str1:\n",
        "        if val not in let_dict1:\n",
        "            let_dict1[val]=1\n",
        "        else:\n",
        "            let_dict1[val]+=1\n",
        "\n",
        "    for val in str2:\n",
        "        if val not in let_dict2:\n",
        "            let_dict2[val]=1\n",
        "        else:\n",
        "            let_dict2[val]+=1\n",
        "\n",
        "    # print(let_dict1,let_dict2)\n",
        "\n",
        "    for key in let_dict1 or let_dict2:\n",
        "        if key in let_dict1 and key in let_dict2:\n",
        "\n",
        "            if let_dict1[key]<let_dict2[key]:\n",
        "                count2+= abs(let_dict1[key]-let_dict2[key])\n",
        "\n",
        "            elif let_dict1[key]>let_dict2[key]:\n",
        "                count1+= abs(let_dict1[key]-let_dict2[key])\n",
        "\n",
        "        elif key in let_dict1 and  key not in let_dict2:\n",
        "            count1+=let_dict1[key]\n",
        "        # print(key,':',count1,count2)\n",
        "\n",
        "    for key in let_dict2:\n",
        "        if key in let_dict2 and  key not in let_dict1:\n",
        "            count2+=let_dict2[key]\n",
        "\n",
        "        # print(key,':',count1,count2)\n",
        "    return min(count1,count2)\n",
        "\n"
      ],
      "metadata": {
        "id": "yd5I1Cz8vOrF"
      },
      "execution_count": null,
      "outputs": []
    },
    {
      "cell_type": "markdown",
      "source": [
        "## minimumOperations\n",
        "\n",
        "Minimum operations to make strings equal\n",
        "\n",
        "| abacaba | zcabd | zxyyxzx\n",
        "\n",
        "| bacabaa | dbacz | zyzyxyy\n",
        "\n",
        "| jfhjfl | abcd\n",
        "\n",
        "| jhkkjs | abcde"
      ],
      "metadata": {
        "id": "_XfWMxtUs3CS"
      }
    },
    {
      "cell_type": "code",
      "source": [
        "'''\n",
        "\tTime complexity: O(N)\n",
        "\tSpace complexity: O(1)\n",
        "\tWhere 'N' is the length of the string.\n",
        "'''\n",
        "def minimumOperations(a, b):\n",
        "    if len(a) != len(b):\n",
        "        return -1\n",
        "\n",
        "    # Length of the given string.\n",
        "    n = len(a)\n",
        "\n",
        "    # To store the required answer.\n",
        "    count = 0\n",
        "\n",
        "    # Run a loop upto 'n'/2.\n",
        "    for i in range(n//2):\n",
        "        c1 = a[i]\n",
        "        c2 = a[n - i - 1]\n",
        "        c3 = b[i]\n",
        "        c4 = b[n - i - 1]\n",
        "\n",
        "        # Cases that doesn't require any preprocessing move.\n",
        "        if ((c1 == c2 and c3 == c4) or (c1 == c3 and c2 == c4) or (c1 == c4 and c2 == c3)):\n",
        "            continue\n",
        "\n",
        "        # Cases that require only one preprocessing move.\n",
        "        elif (c1 == c3 or c1 == c4 or c2 == c3 or c2 == c4 or c3 == c4):\n",
        "            count += 1\n",
        "\n",
        "        # All remaining cases require 2 changes.\n",
        "        else:\n",
        "            count += 2\n",
        "\n",
        "    # If 'n' is odd.\n",
        "    if (n % 2 == 1 and a[n // 2] != b[n // 2]):\n",
        "        count += 1\n",
        "\n",
        "    return count"
      ],
      "metadata": {
        "id": "2yopKnZss06n"
      },
      "execution_count": null,
      "outputs": []
    },
    {
      "cell_type": "markdown",
      "source": [
        "## matchSpecificPattern"
      ],
      "metadata": {
        "id": "pF1lTjFaGOlj"
      }
    },
    {
      "cell_type": "code",
      "source": [
        "def make_word_dict(ip_word):\n",
        "    ip_dict = {}\n",
        "    n = len(ip_word)\n",
        "    for i in range(n):\n",
        "        let = ip_word[i]\n",
        "        if let not in ip_dict:\n",
        "            ip_dict[let]=[i]\n",
        "        else:\n",
        "            ip_dict[let].append(i)\n",
        "    # dict_keys_list = list(ip_dict.keys())\n",
        "    return ip_dict\n",
        "\n",
        "def matchSpecificPattern(words, pattern):\n",
        "    ans = []\n",
        "    n = len(pattern)\n",
        "    pat_dict = make_word_dict(pattern)\n",
        "    swap_pat_dict = {str(val):key for key,val in pat_dict.items()}\n",
        "    for wrd in words:\n",
        "        if len(wrd)==n:\n",
        "            word_dict = make_word_dict(wrd)\n",
        "            swap_word_dict = {str(val):key for key,val in word_dict.items()}\n",
        "            count=0\n",
        "            for key in swap_pat_dict:\n",
        "                if key in swap_word_dict:\n",
        "                    count+=1\n",
        "            if count== len(swap_pat_dict.keys()) \\\n",
        "            and count== len(swap_word_dict.keys()):\n",
        "                ans.append(wrd)\n",
        "\n",
        "\n",
        "    return ans"
      ],
      "metadata": {
        "id": "RTPY-gO_GJJa"
      },
      "execution_count": null,
      "outputs": []
    },
    {
      "cell_type": "markdown",
      "source": [
        "## decrypt_strr1"
      ],
      "metadata": {
        "id": "9DQCOQbna8Aa"
      }
    },
    {
      "cell_type": "code",
      "source": [
        "def decrypt_strr1(strr,k):\n",
        "    n = len(strr)\n",
        "    txt_list = []\n",
        "    tex_str = str()\n",
        "    num_list = []\n",
        "    m=0\n",
        "    count = 0\n",
        "\n",
        "    for i in range(n+1):\n",
        "        try:\n",
        "            val = strr[i]\n",
        "        except:\n",
        "            val = '*'\n",
        "        finally:\n",
        "            if ord(val)>=48 and ord(val)<=57:\n",
        "                m = m*10 + int(val)\n",
        "                if tex_str !='':\n",
        "                    txt_list.append(tex_str)\n",
        "                    tex_str=''\n",
        "            elif ord(val)>=97 and ord(val)<=122:\n",
        "                if m !=0:\n",
        "                    num_list.append(m)\n",
        "                    m=0\n",
        "                tex_str += val\n",
        "            else:\n",
        "                if m !=0:\n",
        "                    num_list.append(m)\n",
        "                    m=0\n",
        "                if tex_str !='':\n",
        "                    txt_list.append(tex_str)\n",
        "                    tex_str=''\n",
        "\n",
        "    for j in range(len(txt_list)):\n",
        "        a = len(txt_list[j])\n",
        "        b = int(num_list[j])\n",
        "        print('count:{0:},a:{1:},b:{2:}'.format(count,a,b))\n",
        "        if k < count + (a*b):\n",
        "            if k-count > a:\n",
        "                return [txt_list[j][(k-count)%a-1]]\n",
        "                pass\n",
        "            elif k-count <=a:\n",
        "                return [txt_list[j][a%(k-count)-1]]\n",
        "                pass\n",
        "        elif k == count + (a*b):\n",
        "            return txt_list[j][-1]\n",
        "        elif k > count + (a*b):\n",
        "            count+=a*b"
      ],
      "metadata": {
        "id": "WPmwf9gcazSo"
      },
      "execution_count": null,
      "outputs": []
    },
    {
      "cell_type": "markdown",
      "source": [
        "## multiply_strs"
      ],
      "metadata": {
        "id": "Lu9bWQzAGGGr"
      }
    },
    {
      "cell_type": "code",
      "source": [
        "def multiply_str_num(strr,a):\n",
        "    n = len(strr)\n",
        "    prod = 0\n",
        "    sum = str()\n",
        "    prod_str = str()\n",
        "    store= '0'\n",
        "    for i in range(n-1,-1,-1):\n",
        "\n",
        "        prod = int(strr[i])*int(a)\n",
        "        if store ==\"\":\n",
        "            prod = prod + 0\n",
        "        else:\n",
        "            prod = prod + int(store)\n",
        "        prod_str = str(prod)\n",
        "        sum = prod_str[-1]+sum\n",
        "        store = prod_str[:-1]\n",
        "    sum = store+sum\n",
        "    return sum"
      ],
      "metadata": {
        "id": "a03nYymXf_OD"
      },
      "execution_count": null,
      "outputs": []
    },
    {
      "cell_type": "code",
      "source": [
        "def get_multy_sums(str1,str2):\n",
        "    sum_list=[]\n",
        "    n = len(str2)\n",
        "    for i in range(n):\n",
        "        a = str2[i]\n",
        "        sum_list.insert(0,multiply_str_num(str1,a))\n",
        "    return sum_list"
      ],
      "metadata": {
        "id": "KD06GNVdlZWT"
      },
      "execution_count": null,
      "outputs": []
    },
    {
      "cell_type": "code",
      "source": [
        "def sum_val_in_list(sum_list):\n",
        "    new_sum_list = []\n",
        "    n = len(sum_list)\n",
        "    try : m = max([len(S) for S in sum_list])\n",
        "    except: m = 0\n",
        "    for i in range(n):\n",
        "        val = sum_list[i]\n",
        "        val = '0'*(m-len(val)) + val\n",
        "        val = '0'*(n-i-1)+val+'0'*i\n",
        "        # print('%%%',val)\n",
        "        new_sum_list.append(val)\n",
        "    # print('%%%',new_sum_list)\n",
        "    return new_sum_list\n",
        "\n"
      ],
      "metadata": {
        "id": "0RqDYWJwnmA7"
      },
      "execution_count": null,
      "outputs": []
    },
    {
      "cell_type": "code",
      "source": [
        "def add_sum_steps(sum_list):\n",
        "    try:    n =  len(sum_list[0])\n",
        "    except: return 0\n",
        "    store = ''\n",
        "    final_sum = ''\n",
        "    for i in range(n-1,0-1,-1):\n",
        "        sum=0\n",
        "        for strr in sum_list:\n",
        "            sum +=int(strr[i])\n",
        "        if store != '':\n",
        "            sum = sum + int(store)\n",
        "        final_sum = str(sum)[-1]+ final_sum\n",
        "        store = str(sum)[:-1]\n",
        "    return final_sum"
      ],
      "metadata": {
        "id": "z597jG52xnH4"
      },
      "execution_count": null,
      "outputs": []
    },
    {
      "cell_type": "code",
      "source": [
        "def trim_str(strr):\n",
        "    n = len(strr)\n",
        "    count=0\n",
        "    for i in range(n):\n",
        "        if strr[i]=='0':\n",
        "            count+=1\n",
        "        else:\n",
        "            break\n",
        "    new_str = strr[count:]\n",
        "    return new_str"
      ],
      "metadata": {
        "id": "cNlgfsgOuLtt"
      },
      "execution_count": null,
      "outputs": []
    },
    {
      "cell_type": "code",
      "source": [
        "def multiply_strs(str1,str2):\n",
        "    str1 = trim_str(str1)\n",
        "    str2 = trim_str(str2)\n",
        "    if str1 =='' or str2 =='':\n",
        "        return 0\n",
        "    sum_list = get_multy_sums(str1,str2)\n",
        "    sum_list = sum_val_in_list(sum_list)\n",
        "    final_sum = add_sum_steps(sum_list)\n",
        "    final_sum = trim_str(final_sum)\n",
        "    return final_sum"
      ],
      "metadata": {
        "id": "S0VKHC7dY2Sw"
      },
      "execution_count": null,
      "outputs": []
    },
    {
      "cell_type": "markdown",
      "source": [
        "## nextLargestPalindrome ( not pass all test case)"
      ],
      "metadata": {
        "id": "778nxC4DGsMd"
      }
    },
    {
      "cell_type": "code",
      "source": [
        "def add_val(A):\n",
        "    A = list(A)\n",
        "    temp=1\n",
        "    for i in range(len(A)-1,0-1,-1):\n",
        "        temp = temp+int(A[i])\n",
        "        print(temp)\n",
        "        if temp >=10:\n",
        "            A[i]=temp%2\n",
        "            temp=temp//10\n",
        "            print(temp)\n",
        "        else:\n",
        "            A[i]=temp\n",
        "            temp=''\n",
        "            break\n",
        "    A = str(temp)+''.join([str(val) for val in A])\n",
        "    return A"
      ],
      "metadata": {
        "id": "5pktZOxD4JV8"
      },
      "execution_count": null,
      "outputs": []
    },
    {
      "cell_type": "code",
      "source": [
        "def rev_str(A):\n",
        "    rA = str()\n",
        "    for i in range(len(A)):\n",
        "        rA  = A[i]+rA\n",
        "    return rA\n"
      ],
      "metadata": {
        "id": "5NKl1NYC-RBg"
      },
      "execution_count": null,
      "outputs": []
    },
    {
      "cell_type": "code",
      "source": [
        "def nextLargestPalindrome(strr, length):\n",
        "    n= length//2\n",
        "    m= length//2+length%2\n",
        "    l_str = str()\n",
        "    m_str = str()\n",
        "    r_str = str()\n",
        "    c_str = str()\n",
        "    print('length:{0:},n:{1:},m:{2:}'.format(length,n,m))\n",
        "    if n!=m:\n",
        "        m_str += strr[n]\n",
        "    else:\n",
        "        m_str = ''\n",
        "    print('m_str:{}'.format(m_str))\n",
        "    for i in range(n):\n",
        "        l_str += strr[i]\n",
        "        r_str  = strr[i]+r_str\n",
        "    r_str= ''.join([val for val in r_str])\n",
        "    print('l_str:{}'.format(l_str))\n",
        "    print('r_str:{}'.format(r_str))\n",
        "\n",
        "    for i in range(n+length%2,length):\n",
        "        c_str += strr[i]\n",
        "    print('c_str:{}'.format(c_str))\n",
        "    flag=0\n",
        "    for i in range(len(r_str)):\n",
        "        if r_str[i] == c_str[i]:\n",
        "            flag = 2\n",
        "            pass\n",
        "        elif r_str[i] < c_str[i]:\n",
        "            flag=1\n",
        "            break\n",
        "        elif r_str[i] > c_str[i]:\n",
        "            flag=0\n",
        "            break\n",
        "\n",
        "    if   flag==0:\n",
        "        A = add_val(l_str+m_str)\n",
        "        return A+r_str\n",
        "    elif flag==1:\n",
        "        A = add_val(l_str+m_str)\n",
        "        B = rev_str(A)\n",
        "        return A+B\n",
        "    elif flag==2:\n",
        "        A = add_val(l_str)\n",
        "        B = rev_str(add_val(c_str))\n",
        "        return A+m_str+B"
      ],
      "metadata": {
        "id": "A2Y-0ouWGqRh"
      },
      "execution_count": null,
      "outputs": []
    },
    {
      "cell_type": "markdown",
      "source": [
        "## compareVersions ( not all test case pass)"
      ],
      "metadata": {
        "id": "7nsRtlCsI15t"
      }
    },
    {
      "cell_type": "code",
      "source": [
        "def till_dot_str(A):\n",
        "    n = len(A)\n",
        "    now_str=str()\n",
        "    for i in range(n):\n",
        "        if A[i]!='.':\n",
        "            now_str+=A[i]\n",
        "        else:\n",
        "            return now_str\n",
        "    return A\n",
        "\n",
        "def trim_str(strr):\n",
        "    ret_str = strr.split(\".\")\n",
        "    n = len(ret_str)\n",
        "    for i in range(n-1,0-1,-1):\n",
        "        if int(ret_str[i]) == 0:\n",
        "            ret_str = ret_str[:-1]\n",
        "        else:\n",
        "            break\n",
        "    return '.'.join(ret_str)\n",
        "\n",
        "\n",
        "def compareVersions(A,B):\n",
        "    A=trim_str(A)\n",
        "    B=trim_str(B)\n",
        "    if A== None and B != None:\n",
        "        return -1\n",
        "\n",
        "    elif B == None and A !=None:\n",
        "        return 1\n",
        "\n",
        "    elif A==None and B==None:\n",
        "        return 0\n",
        "    else:\n",
        "        AP = till_dot_str(A)\n",
        "        BP = till_dot_str(B)\n",
        "        count=0\n",
        "        while(A!= None or B!= None):\n",
        "            # print(AP,BP,end='\\t')\n",
        "            if   A == '' and B != '':\n",
        "                return -1\n",
        "\n",
        "            elif B == '' and A !='':\n",
        "                return 1\n",
        "\n",
        "            elif A == '' and B == '':\n",
        "                return 0\n",
        "            elif A != '' and B != '':\n",
        "                n = len(AP)\n",
        "                m = len(BP)\n",
        "                A  = A[n+1:]\n",
        "                B  = B[m+1:]\n",
        "\n",
        "                if  n==m:\n",
        "                    # print('n=m',AP,BP,' ',n,m)\n",
        "                    for i in range(n):\n",
        "                        if int(AP[i])>int(BP[i]):\n",
        "                            return 1\n",
        "\n",
        "                        elif int(AP[i])<int(BP[i]):\n",
        "                            return -1\n",
        "                    AP = till_dot_str(A)\n",
        "                    BP = till_dot_str(B)\n",
        "                    continue\n",
        "\n",
        "                elif n>m:\n",
        "                    # print('n>m',AP,BP,' ',n,m)\n",
        "                    for i in range(m):\n",
        "                        if int(AP[i])>int(BP[i]):\n",
        "                            return 1\n",
        "                        elif int(AP[i])<int(BP[i]):\n",
        "                            return -1\n",
        "                        else: pass\n",
        "                    return 1\n",
        "                elif n<m:\n",
        "                    # print('n<m',AP,BP,' ',n,m)\n",
        "                    for i in range(n):\n",
        "                        if int(AP[i])>int(BP[i]):\n",
        "                            return 1\n",
        "                        elif int(AP[i])<int(BP[i]):\n",
        "                            return -1\n",
        "                        else: pass\n",
        "                    return -1\n",
        "    return 0"
      ],
      "metadata": {
        "id": "calOoniqI4Ap"
      },
      "execution_count": null,
      "outputs": []
    },
    {
      "cell_type": "markdown",
      "source": [
        "## ___ minimumOperationsn to make 2 strings equal ( not my code)"
      ],
      "metadata": {
        "id": "ePFUlkilJZ2L"
      }
    },
    {
      "cell_type": "code",
      "source": [
        "'''\n",
        "\tTime complexity: O(N)\n",
        "\tSpace complexity: O(1)\n",
        "\tWhere 'N' is the length of the string.\n",
        "'''\n",
        "def minimumOperations(a, b):\n",
        "\n",
        "    if len(a) != len(b):\n",
        "        return -1\n",
        "    # Length of the given string.\n",
        "    n = len(a)\n",
        "    # To store the required answer.\n",
        "    count = 0\n",
        "\n",
        "    # Run a loop upto 'n'/2.\n",
        "\n",
        "    for i in range(n//2):\n",
        "        c1 = a[i]\n",
        "        c2 = a[n - i - 1]\n",
        "        c3 = b[i]\n",
        "        c4 = b[n - i - 1]\n",
        "\n",
        "        # Cases that doesn't require any preprocessing move.\n",
        "        if ((c1 == c2 and c3 == c4) or (c1 == c3 and c2 == c4) or (c1 == c4 and c2 == c3)):\n",
        "            continue\n",
        "\n",
        "\n",
        "        # Cases that require only one preprocessing move.\n",
        "        elif (c1 == c3 or c1 == c4 or c2 == c3 or c2 == c4 or c3 == c4):\n",
        "            count += 1\n",
        "        # All remaining cases require 2 changes.\n",
        "\n",
        "        else:\n",
        "            count += 2\n",
        "\n",
        "    # If 'n' is odd.\n",
        "    if (n % 2 == 1 and a[n // 2] != b[n // 2]):\n",
        "        count += 1\n",
        "    return count\n",
        "\n",
        "\n",
        "# Main.\n",
        "t = int(input().strip())\n",
        "\n",
        "for i in range(t):\n",
        "    str_a = input().strip()\n",
        "    str_b = input().strip()\n",
        "    print(minimumOperations(str_a, str_b))"
      ],
      "metadata": {
        "id": "4v1pKVu-Ja7K"
      },
      "execution_count": null,
      "outputs": []
    }
  ]
}